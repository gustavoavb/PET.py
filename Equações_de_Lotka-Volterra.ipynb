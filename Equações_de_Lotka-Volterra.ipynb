{
 "cells": [
  {
   "cell_type": "markdown",
   "metadata": {},
   "source": [
    "# Interação predatória e equações de Lotka-Volterra"
   ]
  },
  {
   "cell_type": "markdown",
   "metadata": {},
   "source": [
    "- PET - Fisica UFRN\n",
    "- Petiano: Gustavo C. A. Vilas Boas\n",
    "- Data: 29/07/20"
   ]
  },
  {
   "cell_type": "markdown",
   "metadata": {},
   "source": [
    "O objetivo deste projeto é simular uma interação predatória simples, com uma presa e um predador, utilizando as equações de Lotka-Volterra. Será desenvolvido em Python utilizando conhecimentos de resolução de equações diferenciais [1]. O problema foi proposto no livro Mark Newman - Computational Physics [1], na seção 8.2."
   ]
  },
  {
   "cell_type": "markdown",
   "metadata": {},
   "source": [
    "### Introdução"
   ]
  },
  {
   "cell_type": "markdown",
   "metadata": {},
   "source": [
    "As equações de Lotka-Volterra são equações desenvolvidas independentemente por Alfred Lotka, em 1925, e Vito Volterra, em 1926.\n",
    "São compostas por um par de equações diferenciais:\n",
    "\n",
    " $\\dfrac{dx}{dt}$ = $\\alpha x$ - $\\beta xy$    \n",
    " $\\dfrac{dy}{dt}$ = $\\gamma xy$ - $\\delta y$  \n",
    "\n",
    "Onde x é a população de presas, y a população de predadores, $\\alpha$ é a taxa de crescimento da população de presas, $\\beta$ é a taxa de predação, $\\gamma$ é a a razão entre a reprodução de predadores por presa consumida, e $\\delta$ é a taxa de mortalidade de predadores.  \n",
    "Para essas equações são tomadas quatro suposições [2]:\n",
    "- A população de presas cresce exponencialmente quando não tem predadores;\n",
    "- A população de predadores morre de fome na falta de presas;\n",
    "- Predadores podem consumir infinitas presas;\n",
    "- Não há complexidade ambiental (ambas populações andam livremente num ambiente homogêneo) \n",
    "\n",
    "  \n",
    "Essas equações foram utilizadas no aspecto biológico inicialmente, mas posteriormente foram utilizadas para vários fins, como físico ou até econômico, como o artigo [3] utiliza."
   ]
  },
  {
   "cell_type": "markdown",
   "metadata": {},
   "source": [
    "### Método utilizado"
   ]
  },
  {
   "cell_type": "markdown",
   "metadata": {},
   "source": [
    "Será utilizado para a resolução do problema o método Runge-Kutta de quarta ordem (RK4), porém utilizando o $r$ como um vetor armazenando $x$ e $y$."
   ]
  },
  {
   "cell_type": "markdown",
   "metadata": {},
   "source": [
    "### Importando bibliotecas"
   ]
  },
  {
   "cell_type": "code",
   "execution_count": 1,
   "metadata": {},
   "outputs": [],
   "source": [
    "from numpy import array\n",
    "from pylab import plot, show, legend, grid, xlabel, ylabel"
   ]
  },
  {
   "cell_type": "markdown",
   "metadata": {},
   "source": [
    "### Criando a função das equações de Lotka-Volterra"
   ]
  },
  {
   "cell_type": "markdown",
   "metadata": {},
   "source": [
    "A função $f(r,t)$ recebe o tempo $t$ e o vetor $r$ que contém $x$ e $y$, e utilizando esses valores, junto com as constantes que serão declaradas com valores dados na questão, retorna os valores de $\\dfrac{dx}{dt}$ e $\\dfrac{dy}{dt}$."
   ]
  },
  {
   "cell_type": "code",
   "execution_count": 2,
   "metadata": {},
   "outputs": [],
   "source": [
    "def f(r,t):\n",
    "    x = r[0]\n",
    "    y = r[1]\n",
    "    dx = alpha*x - beta*x*y\n",
    "    dy = gamma*x*y - delta*y\n",
    "    return array([dx,dy], float)"
   ]
  },
  {
   "cell_type": "markdown",
   "metadata": {},
   "source": [
    "### Criando a função RK4"
   ]
  },
  {
   "cell_type": "markdown",
   "metadata": {},
   "source": [
    "A função $RK4(r,t)$ consiste no método Runge-Kutta de quarta ordem, previamente explicado nos projetos anteriores."
   ]
  },
  {
   "cell_type": "code",
   "execution_count": 3,
   "metadata": {},
   "outputs": [],
   "source": [
    "def RK4(r,t):\n",
    "    k1 = h*f(r,t)\n",
    "    k2 = h*f(r+k1/2,t+h/2)\n",
    "    k3 = h*f(r+k2/2,t+h/2)\n",
    "    k4 = h*f(r+k3,t+h)\n",
    "    return r + (1/6)*(k1+2*k2+2*k3+k4)"
   ]
  },
  {
   "cell_type": "markdown",
   "metadata": {},
   "source": [
    "### Definição de parâmetros iniciais"
   ]
  },
  {
   "cell_type": "markdown",
   "metadata": {},
   "source": [
    "Para iniciar a simulação, são definidos parâmetros iniciais para o tempo, tamanho das populações e constantes. Os valores das constantes _alpha, beta, gamma_ e _delta_ e as populações iniciais $x$ e $y$ foram retirados da questão 8.2 [1]."
   ]
  },
  {
   "cell_type": "code",
   "execution_count": 4,
   "metadata": {},
   "outputs": [],
   "source": [
    "alpha = 1\n",
    "beta = 0.5\n",
    "gamma = 0.5\n",
    "delta = 2\n",
    "x = 2\n",
    "y = 2"
   ]
  },
  {
   "cell_type": "markdown",
   "metadata": {},
   "source": [
    "Após a definição dos parâmetros iniciais, são declaradas as variáveis de tempo, sendo $a$ o tempo inicial e $b$ o tempo final.  \n",
    "O parâmetro $N$ simboliza a quantidade de passos que a simulação terá, e utilizado também para encontrar o $h$, que é o intervalo de tempo para cada passo. E o $r$ é o vetor de $x$ e $y$."
   ]
  },
  {
   "cell_type": "code",
   "execution_count": 5,
   "metadata": {},
   "outputs": [],
   "source": [
    "a = 0\n",
    "b = 30\n",
    "r = array([x,y], float)\n",
    "N = 3000\n",
    "h = (b-a)/N\n",
    "t = a"
   ]
  },
  {
   "cell_type": "markdown",
   "metadata": {},
   "source": [
    "Para plotar o gráfico no final da simulação, é necessário o armazenamento dos dados das populações e do tempo gerados no decorrer do cálculo, e para isso, são criadas várias listas vazias, para posteriormente serem preenchidas com o _append_."
   ]
  },
  {
   "cell_type": "code",
   "execution_count": 6,
   "metadata": {},
   "outputs": [],
   "source": [
    "listat = []\n",
    "listax = []\n",
    "listay = []\n",
    "h = (b-a)/N\n",
    "t = a"
   ]
  },
  {
   "cell_type": "markdown",
   "metadata": {},
   "source": [
    "### Resolvendo EDOs"
   ]
  },
  {
   "cell_type": "markdown",
   "metadata": {},
   "source": [
    "Após a criação de funções, definição de parâmetros iniciais e criação de listas para armazenar os resultados, um laço é criado para resolver as EDOs."
   ]
  },
  {
   "cell_type": "code",
   "execution_count": 7,
   "metadata": {},
   "outputs": [],
   "source": [
    "while(t<b):\n",
    "    listat.append(t)\n",
    "    listax.append(r[0])\n",
    "    listay.append(r[1])\n",
    "    r = RK4(r,t)    \n",
    "    t+=h"
   ]
  },
  {
   "cell_type": "markdown",
   "metadata": {},
   "source": [
    "### Plotando os resultados"
   ]
  },
  {
   "cell_type": "code",
   "execution_count": 8,
   "metadata": {},
   "outputs": [
    {
     "data": {
      "image/png": "[encoded data removed]",
      "text/plain": [
       "<Figure size 432x288 with 1 Axes>"
      ]
     },
     "metadata": {
      "needs_background": "light"
     },
     "output_type": "display_data"
    }
   ],
   "source": [
    "plot(listat,listax,label='Presas')\n",
    "plot(listat,listay,label='Predadores')\n",
    "xlabel(\"Tempo\")\n",
    "ylabel(\"População\")\n",
    "legend(loc='upper right')\n",
    "grid()\n",
    "show()"
   ]
  },
  {
   "cell_type": "code",
   "execution_count": 9,
   "metadata": {},
   "outputs": [
    {
     "data": {
      "image/png": "[encoded data removed]",
      "text/plain": [
       "<Figure size 432x288 with 1 Axes>"
      ]
     },
     "metadata": {
      "needs_background": "light"
     },
     "output_type": "display_data"
    }
   ],
   "source": [
    "plot(listax,listay) #Plot do espaço de fase\n",
    "xlabel(\"Presas\")\n",
    "ylabel(\"Predadores\")\n",
    "grid()\n",
    "show()"
   ]
  },
  {
   "cell_type": "markdown",
   "metadata": {},
   "source": [
    "### Conclusão"
   ]
  },
  {
   "cell_type": "markdown",
   "metadata": {},
   "source": [
    "A população de predadores cresce com o crescimento da população de presas, mas esse aumento de predadores causa uma diminuição nas presas, e por causa disso, também diminui a quantidade de predadores, e esse ciclo continua."
   ]
  },
  {
   "cell_type": "markdown",
   "metadata": {},
   "source": [
    "### Referências"
   ]
  },
  {
   "cell_type": "markdown",
   "metadata": {},
   "source": [
    "[1] Mark Newman-Computational Physics (2013,University of Michigan)    \n",
    "[2] http://www.tiem.utk.edu/~gross/bioed/bealsmodules/predator-prey.html  \n",
    "[3] BISCHI ,G. I.; TRAMONTANA, F. Three-dimensional discrete-time Lotka–Volterra models with an application to industrial clusters. Communications in Nonlinear Science and Numerical Simulation, v. 15, Issue 10, Outubro 2010, pg. 3000-3014."
   ]
  }
 ],
 "metadata": {
  "kernelspec": {
   "display_name": "Python 3",
   "language": "python",
   "name": "python3"
  },
  "language_info": {
   "codemirror_mode": {
    "name": "ipython",
    "version": 3
   },
   "file_extension": ".py",
   "mimetype": "text/x-python",
   "name": "python",
   "nbconvert_exporter": "python",
   "pygments_lexer": "ipython3",
   "version": "3.7.6"
  }
 },
 "nbformat": 4,
 "nbformat_minor": 4
}
