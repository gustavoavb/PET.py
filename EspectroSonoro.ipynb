{
 "cells": [
  {
   "cell_type": "markdown",
   "metadata": {},
   "source": [
    "# Espectro sonoro"
   ]
  },
  {
   "cell_type": "markdown",
   "metadata": {},
   "source": [
    "- PET - Fisica UFRN\n",
    "- Petiano: Gustavo C. A. Vilas Boas\n",
    "- 10/02/21"
   ]
  },
  {
   "cell_type": "markdown",
   "metadata": {},
   "source": [
    "O objetivo deste projeto é visualizar uma onda sonora e seu espectro, utilizando transformada de Fourier, e a partir disso gerar um novo arquivo de áudio com o ruído diminuído. E como bônus analisar o som captado pelo microfone."
   ]
  },
  {
   "cell_type": "markdown",
   "metadata": {},
   "source": [
    "## Introdução"
   ]
  },
  {
   "cell_type": "markdown",
   "metadata": {},
   "source": [
    "A transformada de Fourier é uma das ferramentas mais usadas na física, pois é capaz de decompor funções ou sinais que dependem do tempo em frequências, permitindo observar quais frequências constituem a função, como as notas em um acorde ou a frequência do ciclo solar, como foi abordado anteriormente. \n",
    "As ondas sonoras, como o próprio nome diz, são ondas, e como qualquer função $f(x)$ (que atende às condições de Dirichlet), podem ser descritas como uma soma de senos e cossenos[1]."
   ]
  },
  {
   "cell_type": "markdown",
   "metadata": {},
   "source": [
    "$$f(x) = \\sum_{k=0}^{\\infty} \\alpha_k cos\\Big(\\frac{2 \\pi kx}{L}\\Big) + \\sum_{k=1}^{\\infty} \\beta_k sen\\Big(\\frac{2 \\pi kx}{L}\\Big)$$"
   ]
  },
  {
   "cell_type": "markdown",
   "metadata": {},
   "source": [
    "Ou reescrevendo na forma complexa:"
   ]
  },
  {
   "cell_type": "markdown",
   "metadata": {},
   "source": [
    "$$f(x) = \\sum_{k=-\\infty}^{\\infty} \\gamma_k exp\\Big(i\\frac{2 \\pi kx}{L}\\Big)$$\n",
    "\n",
    "$$\n",
    "\\gamma_k = \\begin{cases}\n",
    "                \\frac{1}{2}(\\alpha_{-k} + i\\beta_{-k}) & if\\,\\, k < 0,\\\\ \n",
    "                \\alpha_0 & if\\,\\, k = 0,\\\\\n",
    "                \\frac{1}{2}(\\alpha_{k} - i\\beta_{k}) & if\\,\\, k > 0. \\\\\n",
    "            \\end{cases}\n",
    "$$"
   ]
  },
  {
   "cell_type": "markdown",
   "metadata": {},
   "source": [
    "Porém o que queremos é uma função no domínio das frequências, e não do tempo como a função $f(x)$, e para isso, utilizamos a Transformada de Fourier:"
   ]
  },
  {
   "cell_type": "markdown",
   "metadata": {},
   "source": [
    "$$\\gamma_k = \\frac{1}{N} \\sum_{k=0}^{N-1} f(x_n) exp \\Big(-i\\frac{2 \\pi kx}{L}\\Big)$$"
   ]
  },
  {
   "cell_type": "markdown",
   "metadata": {},
   "source": [
    "## Importando bibliotecas"
   ]
  },
  {
   "cell_type": "code",
   "execution_count": 1,
   "metadata": {},
   "outputs": [],
   "source": [
    "import matplotlib.pyplot as plt\n",
    "from scipy.io import wavfile as wav\n",
    "from numpy.fft import rfft, irfft\n",
    "import numpy as np"
   ]
  },
  {
   "cell_type": "markdown",
   "metadata": {},
   "source": [
    "Além dessas quatro bibliotecas que utilizaremos para a primeira parte, teremos mais algumas para a segunda parte."
   ]
  },
  {
   "cell_type": "code",
   "execution_count": 2,
   "metadata": {},
   "outputs": [],
   "source": [
    "import pyaudio\n",
    "import struct\n",
    "from tkinter import TclError"
   ]
  },
  {
   "cell_type": "markdown",
   "metadata": {},
   "source": [
    "## Leitura e tratamento do arquivo de áudio"
   ]
  },
  {
   "cell_type": "markdown",
   "metadata": {},
   "source": [
    "Utilizaremos a função ***wavfile*** do ***scipy.io*** para ler o arquivo ***.wav*** de uma gravação da introdução da música *Stairway to Heaven* da banda *Led Zeppelin* tocada em um violão, com som de chuva e ventilador perto. "
   ]
  },
  {
   "cell_type": "code",
   "execution_count": null,
   "metadata": {},
   "outputs": [],
   "source": [
    "rate, data = wav.read('led.wav')\n",
    "plt.plot(data)\n",
    "plt.show()"
   ]
  },
  {
   "cell_type": "markdown",
   "metadata": {},
   "source": [
    "Agora, para obtermos o gráfico dos coeficientes no domínio das frequências, utilizaremos a função ***rfft***."
   ]
  },
  {
   "cell_type": "code",
   "execution_count": null,
   "metadata": {},
   "outputs": [],
   "source": [
    "fft_data = rfft(data)\n",
    "plt.plot(np.abs(fft_data))\n",
    "plt.show()"
   ]
  },
  {
   "cell_type": "markdown",
   "metadata": {},
   "source": [
    "Percebe-se que a partir de um certo ponto, vemos apenas frequências com valores muito pequenos, que podem ser retirados para suavizar a onda sonora, retirando assim, um pouco do ruído."
   ]
  },
  {
   "cell_type": "code",
   "execution_count": null,
   "metadata": {},
   "outputs": [],
   "source": [
    "N = len(fft_data)\n",
    "fft_data2 = np.zeros(N, complex)\n",
    "pfreq = 0.15 # Porcentagem restante das frequências\n",
    "for i in range(N):\n",
    "    if i < (pfreq*N):\n",
    "        fft_data2[i] = fft_data[i]\n",
    "plt.plot(np.abs(fft_data2))\n",
    "plt.show()"
   ]
  },
  {
   "cell_type": "markdown",
   "metadata": {},
   "source": [
    "E finalmente, para criar nosso arquivo ***.wav*** com essa alteração, utilizaremos a função inversa ***irrft*** e após isso, utilizar o ***wav.write*** para criar o novo arquivo ***led2.wav***"
   ]
  },
  {
   "cell_type": "code",
   "execution_count": null,
   "metadata": {},
   "outputs": [],
   "source": [
    "data2 = irfft(fft_data2)\n",
    "plt.plot(data2)\n",
    "plt.show()\n",
    "\n",
    "wav.write('led2.wav',rate,data2.astype(np.int16))"
   ]
  },
  {
   "cell_type": "markdown",
   "metadata": {},
   "source": [
    "Percebe-se que ao alterar a porcentagem, o som resultante se altera, tomando um aspecto mais \"abafado\" quando diminuído, diminuindo o ruído, porém perdendo um pouco da qualidade. Nesse arquivo infelizmente não foi possível retirar o som do ventilador pois estava alto e continua perceptível após o processo."
   ]
  },
  {
   "cell_type": "markdown",
   "metadata": {},
   "source": [
    "## Análise em tempo real do microfone"
   ]
  },
  {
   "cell_type": "markdown",
   "metadata": {},
   "source": [
    "Não falarei tanto sobre os detalhes técnicos do código, pois não é meu, fiz apenas algumas poucas alterações, mas adicionarei aqui por ser uma utilização muito interessante do assunto. O autor original tem um video explicando o passo a passo [2]."
   ]
  },
  {
   "cell_type": "code",
   "execution_count": 4,
   "metadata": {},
   "outputs": [],
   "source": [
    "# Usado para abrir uma janela a parte\n",
    "%matplotlib tk\n",
    "\n",
    "# Constantes\n",
    "amostra = 1024 * 2             # Amostras por frame\n",
    "taxa = 44100                 # Amostras por segundo\n",
    "\n",
    "# Criação da figura e eixos\n",
    "#plt.ion()              #(Usado para abrir no python, no lugar do %matplotlib tk)\n",
    "fig, (ax1, ax2) = plt.subplots(2)\n",
    "\n",
    "# Iniciação do PyAudio\n",
    "p = pyaudio.PyAudio()\n",
    "\n",
    "# Objeto para receber os dados do microfone\n",
    "stream = p.open(\n",
    "    format=pyaudio.paInt16,\n",
    "    channels=1,\n",
    "    rate=taxa,\n",
    "    input=True,\n",
    "    output=True,\n",
    "    frames_per_buffer=amostra\n",
    ")\n",
    "\n",
    "# Variaveis para o plot\n",
    "x = np.arange(0, 2 * amostra, 2)       # Amostras (Onda)\n",
    "xf = np.linspace(0, taxa, amostra)     # Frequências (Espectro)\n",
    "\n",
    "# Criação de uma linha para a onda\n",
    "line, = ax1.plot(x, np.random.rand(amostra), '-', lw=2)\n",
    "\n",
    "# Criação de uma linha para o espectro (com semilogx para visualizar melhor)\n",
    "line_fft, = ax2.semilogx(xf, np.random.rand(amostra), '-', lw=2)\n",
    "\n",
    "# Eixos para formato da onda\n",
    "ax1.set_title('Onda sonora')\n",
    "ax1.set_xlabel('Amostras')\n",
    "ax1.set_ylabel('Amplitude')\n",
    "#ax1.set_ylim(0, 255)\n",
    "ax1.set_xlim(0, 2 * amostra)\n",
    "plt.setp(ax1, xticks=[0, amostra, 2 * amostra], yticks=[0, 128, 255])\n",
    "\n",
    "# Eixos para espectro\n",
    "ax2.set_xlim(20, taxa / 2)\n",
    "ax2.set_ylim(0,1)\n",
    "\n",
    "\n",
    "while True:\n",
    "    \n",
    "    # Dados binários\n",
    "    data = stream.read(amostra)  \n",
    "    \n",
    "    # Conversão em integers\n",
    "    data_int  = struct.unpack(str(2 * amostra) + 'B', data)\n",
    "    \n",
    "    # Criação de array\n",
    "    data_np = np.array(data_int, dtype='b')[::2] + 128\n",
    "    \n",
    "    line.set_ydata(data_np)\n",
    "    \n",
    "    # Cálculo da transformada de Fourier\n",
    "    yf = rfft(data_int)\n",
    "    line_fft.set_ydata(np.abs(yf[0:amostra])  / (128 * amostra)) \n",
    "    \n",
    "    # Atualização da tela\n",
    "    try:\n",
    "        fig.canvas.draw()\n",
    "        fig.canvas.flush_events()\n",
    "        \n",
    "    except TclError:\n",
    "        break"
   ]
  },
  {
   "cell_type": "markdown",
   "metadata": {},
   "source": [
    "## Referências"
   ]
  },
  {
   "cell_type": "markdown",
   "metadata": {},
   "source": [
    "[1] Mark Newman-Computational Physics (2013,University of Michigan)    \n",
    "[2] Mark Jay. https://www.youtube.com/watch?v=aQKX3mrDFoY"
   ]
  }
 ],
 "metadata": {
  "kernelspec": {
   "display_name": "Python 3",
   "language": "python",
   "name": "python3"
  },
  "language_info": {
   "codemirror_mode": {
    "name": "ipython",
    "version": 3
   },
   "file_extension": ".py",
   "mimetype": "text/x-python",
   "name": "python",
   "nbconvert_exporter": "python",
   "pygments_lexer": "ipython3",
   "version": "3.7.6"
  }
 },
 "nbformat": 4,
 "nbformat_minor": 4
}
