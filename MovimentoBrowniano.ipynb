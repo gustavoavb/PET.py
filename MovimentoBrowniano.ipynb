{
 "cells": [
  {
   "cell_type": "markdown",
   "metadata": {},
   "source": [
    "# Movimento Browniano"
   ]
  },
  {
   "cell_type": "markdown",
   "metadata": {},
   "source": [
    "- PET - Fisica UFRN\n",
    "- Petiano: Gustavo C. A. Vilas Boas\n",
    "- Data: 21/11/2020"
   ]
  },
  {
   "cell_type": "markdown",
   "metadata": {},
   "source": [
    "O objetivo desse projeto é simular o movimento browniano de uma partícula suspensa em um fluido. "
   ]
  },
  {
   "cell_type": "markdown",
   "metadata": {},
   "source": [
    "### Introdução"
   ]
  },
  {
   "cell_type": "markdown",
   "metadata": {},
   "source": [
    "O Movimento Browniano é o movimento irregular, e aparentemente aleatório e ininterrupto, de pequenas partículas em um líquido. Ele tem esse nome em homenagem ao Robert Brown, um botânico inglês, que percebeu esse fenômeno pela primeira vez em 1828. Décadas se passaram desde sua observação até finalmente ser elucidado, por Albert Einstein, em 1905. Antes que fosse explicado, várias hipóteses foram levantadas, como atração e repulsão das partículas suspensas ou correntes de convecção, mas nada explicava, até que a partir de 1860 começou a surgir ideias de que esse movimento ocorre por conta de colisões das partículas com moléculas do flúido, pois era verificado que as trajetórias não apresentavam tangentes, eram curvas abruptas. O trabalho de Einstein descrevendo esse fenômeno contribuiu muito para a consolidação do modelo atômico, pois era um fenômeno visível e que só era possível graças à existência de átomos, além de obter uma estimativa melhor para o número de Avogadro."
   ]
  },
  {
   "cell_type": "markdown",
   "metadata": {},
   "source": [
    "### Idealização do projeto"
   ]
  },
  {
   "cell_type": "markdown",
   "metadata": {},
   "source": [
    "Para este projeto, foi utilizada a biblioteca $random$ para simular o caráter probabilistico e aparentemente aleatório do movimento da partícula. A ideia inicial foi dada pela questão 10.3 do livro Mark Newman - Computational Physics [1], que pede o movimento randômico para cima, baixo, direita e esquerda, porém preferi tornar o movimento mais \"natural\" e utilizei senos e cossenos em conjunto com a função $random$ para gerar movimentos em todas as direções (no plano xy)."
   ]
  },
  {
   "cell_type": "markdown",
   "metadata": {},
   "source": [
    "### Importando bibliotecas"
   ]
  },
  {
   "cell_type": "markdown",
   "metadata": {},
   "source": [
    "Para esse projeto, foram utilizadas as bibliotecas $matplotlib$ e $numpy$ para animação, $math$ para cálculos e $random$ para obter valores aleatórios."
   ]
  },
  {
   "cell_type": "code",
   "execution_count": 1,
   "metadata": {},
   "outputs": [],
   "source": [
    "import matplotlib.pyplot as plt\n",
    "import matplotlib.animation as animation\n",
    "from math import cos, sin, pi\n",
    "from  numpy import arange\n",
    "from random import random"
   ]
  },
  {
   "cell_type": "markdown",
   "metadata": {},
   "source": [
    "### Calculando o movimento"
   ]
  },
  {
   "cell_type": "markdown",
   "metadata": {},
   "source": [
    "Para obter o movimento da partícula ter uma probabilidade igual em todas as direções, foi utilizado a função $random$, que gera números aleatórios no intervalo $0 \\leq n < 1$, multiplicada por $2\\pi$, para obter um ângulo $\\theta$ aleatório, e com ele, utilizar o $sin(\\theta)$ para o movimento em $y$ e o $cos(\\theta)$ para o movimento em $x$."
   ]
  },
  {
   "cell_type": "markdown",
   "metadata": {},
   "source": [
    "![theta](https://imgur.com/JcgWQhr.jpg)     \n",
    "      \n",
    "      \n",
    "$\\theta = 2\\pi n$, sendo $n$ um número aleatório      \n",
    "$r(x,y) = (x_{t-1} + cos(\\theta)) \\hat{x} + (y_{t-1} + sin(\\theta)) \\hat{y}$    \n",
    "      \n",
    "Quando a partícula fizer um movimento que vá ultrapassar os limites de espaço, ela terá sua direção invertida no eixo que seria ultrapassado.\n",
    "$x(t) = x_{t-1} - cos(\\theta)$ para o eixo $x$ e $y(t) = y_{t-1} - sin(\\theta)$ para o eixo $y$."
   ]
  },
  {
   "cell_type": "code",
   "execution_count": 2,
   "metadata": {},
   "outputs": [],
   "source": [
    "x = []\n",
    "y = []\n",
    "xi,yi = 0,0\n",
    "ts = 100\n",
    "\n",
    "for i in range(ts):\n",
    "    theta = random()*2*pi\n",
    "    if (xi + cos(theta) > -10 and xi + cos(theta) < 10):\n",
    "        xi += cos(theta)\n",
    "    else:\n",
    "        xi -= cos(theta)\n",
    "    if (yi + sin(theta) > -10 and yi + sin(theta) < 10):\n",
    "        yi += sin(theta)\n",
    "    else:\n",
    "        yi -= sin(theta)\n",
    "    x.append(xi)\n",
    "    y.append(yi)"
   ]
  },
  {
   "cell_type": "markdown",
   "metadata": {},
   "source": [
    "### Plotando"
   ]
  },
  {
   "cell_type": "markdown",
   "metadata": {},
   "source": [
    "Plotando somente o movimento da partícula."
   ]
  },
  {
   "cell_type": "code",
   "execution_count": 3,
   "metadata": {},
   "outputs": [],
   "source": [
    "#fig, ax = plt.subplots()\n",
    "#plt.axis('off')\n",
    "#r, = ax.plot([], [],'bo')\n",
    "\n",
    "def init():\n",
    "    ax.set_xlim(-10, 10)\n",
    "    ax.set_ylim(-10, 10)\n",
    "\n",
    "def walk(t):\n",
    "    global x,y\n",
    "    r.set_data(x[t],y[t])       \n",
    "    return r,\n",
    "\n",
    "#ani = animation.FuncAnimation(fig, walk, arange(1, ts), interval=100, init_func=init)\n",
    "#plt.show()\n",
    "#ani.save('walk.mp4')"
   ]
  },
  {
   "cell_type": "markdown",
   "metadata": {},
   "source": [
    " ![walk1](https://imgur.com/Yt8NqU2.gif)"
   ]
  },
  {
   "cell_type": "markdown",
   "metadata": {},
   "source": [
    "Agora implementando esse gráfico e colocando uma linha marcando o trajeto."
   ]
  },
  {
   "cell_type": "code",
   "execution_count": 4,
   "metadata": {},
   "outputs": [],
   "source": [
    "#fig, ax = plt.subplots()\n",
    "#plt.axis('off')\n",
    "#r, = ax.plot([], [],'bo')\n",
    "#trace, = ax.plot([], [],color='k', lw=1.5,alpha=0.5)\n",
    "\n",
    "def init():\n",
    "    ax.set_xlim(-10, 10)\n",
    "    ax.set_ylim(-10, 10)\n",
    "\n",
    "def walk(t):\n",
    "    global x,y\n",
    "    tracex, tracey = [], []\n",
    "    \n",
    "    for i in range(t+1):\n",
    "        tracex.append(x[i])\n",
    "        tracey.append(y[i])\n",
    "    trace.set_data(tracex,tracey)\n",
    "    r.set_data(x[t],y[t])       \n",
    "    return r, trace,\n",
    "\n",
    "#ani = animation.FuncAnimation(fig, walk, arange(1, ts), interval=100, init_func=init)\n",
    "#plt.show()\n",
    "#ani.save('walk2.mp4')"
   ]
  },
  {
   "cell_type": "markdown",
   "metadata": {},
   "source": [
    "![walk2](https://imgur.com/Azu7NNg.gif)"
   ]
  },
  {
   "cell_type": "markdown",
   "metadata": {},
   "source": [
    "### Referências"
   ]
  },
  {
   "cell_type": "markdown",
   "metadata": {},
   "source": [
    "[1] Mark Newman-Computational Physics (2013,University of Michigan)    \n",
    "[2] Salinas, Silvio R.A.. (2005). Einstein e a teoria do movimento browniano. Revista Brasileira de Ensino de Física, 27(2), 263-269. https://doi.org/10.1590/S1806-11172005000200013.       \n",
    "[3] Silva, J.M., & Lima, J.A.S.. (2007). Quatro abordagens para o movimento browniano. Revista Brasileira de Ensino de Física, 29(1), 25-35. https://doi.org/10.1590/S1806-11172007000100007."
   ]
  }
 ],
 "metadata": {
  "kernelspec": {
   "display_name": "Python 3",
   "language": "python",
   "name": "python3"
  },
  "language_info": {
   "codemirror_mode": {
    "name": "ipython",
    "version": 3
   },
   "file_extension": ".py",
   "mimetype": "text/x-python",
   "name": "python",
   "nbconvert_exporter": "python",
   "pygments_lexer": "ipython3",
   "version": "3.7.1"
  }
 },
 "nbformat": 4,
 "nbformat_minor": 4
}
