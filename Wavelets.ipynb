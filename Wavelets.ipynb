{
 "cells": [
  {
   "cell_type": "markdown",
   "metadata": {},
   "source": [
    "# Transformada em Ondeletas"
   ]
  },
  {
   "cell_type": "markdown",
   "metadata": {},
   "source": [
    "- PET - Fisica UFRN\n",
    "- Petiano: Gustavo C. A. Vilas Boas\n",
    "- 21/04/21"
   ]
  },
  {
   "cell_type": "markdown",
   "metadata": {},
   "source": [
    "O objetivo desse projeto é entender conceitualmente como funciona as transformadas em ondeletas e o porquê de serem uma boa alternativa para contornar as limitações da transformada de Fourier."
   ]
  },
  {
   "cell_type": "markdown",
   "metadata": {},
   "source": [
    "## Introdução"
   ]
  },
  {
   "cell_type": "markdown",
   "metadata": {},
   "source": [
    "Como visto no notebook sobre as transformadas de Fourier, é inegável que essa ferramenta é útil e muito importante em vários casos, porém, ela não é absoluta. Um problema dela é não lidar bem com descontinuidades na função, como é possível ver nos gráficos a seguir."
   ]
  },
  {
   "cell_type": "markdown",
   "metadata": {},
   "source": [
    " ![fourxwav](https://imgur.com/BKwbEeJ.jpg)"
   ]
  },
  {
   "cell_type": "markdown",
   "metadata": {},
   "source": [
    "Ambas as funções tem ondas de 2Hz, 10Hz e 20Hz, porém a primeira é a onda resultante da soma das três ondas, enquanto a segunda é separada em três pedaços, com o primeiro terço sendo 2Hz, o segundo 10Hz e o terceiro 20Hz. Mas, por causa das descontinuidades, a transformada da segunda função não apresenta um bom resultado, como é possível observar, com bastante ruído."
   ]
  },
  {
   "cell_type": "markdown",
   "metadata": {},
   "source": [
    "Outro problema dela é a falta de dependência do tempo, ou seja, ela consegue capturar as frequências presentes na função mas não dá informação sobre quando elas aparecem."
   ]
  },
  {
   "cell_type": "markdown",
   "metadata": {},
   "source": [
    "![21020x20102](https://imgur.com/aZ123EH.jpg)"
   ]
  },
  {
   "cell_type": "markdown",
   "metadata": {},
   "source": [
    "Como podemos observar, as duas curvas são diferentes, a primeira igual à apresentada nos gráficos anteriores e a segunda com uma organização contrária, e mesmo sendo diferentes, a transformada resultante da segunda é muito parecida com a primeira, não dando nenhuma informação sobre quando as frequências aparecem."
   ]
  },
  {
   "cell_type": "markdown",
   "metadata": {},
   "source": [
    "Uma forma de contornar esse problema é usando a chamada transformada de Fourier de tempo curto (*Short-time Fourier transform, ou STFT*), que consiste em separar a função em vários pedaços e fazer a transformada em cada pedaço, podendo exibir informações sobre o tempo das frequências. O problema disso é que, de maneira análoga ao princípio de Incerteza de Heisenberg, quanto mais precisão no eixo das frequências, menos no eixo temporal, e vice versa. E isso é um problema, pois para altas frequências, como picos de um abalo sísmico ou de eletrocardiogramas, é necessário uma precisão temporal grande, enquanto para baixas frequências, é mais necessária a precisão na frequência, pois ela exerce sua interferência em um tempo mais longo."
   ]
  },
  {
   "cell_type": "markdown",
   "metadata": {},
   "source": [
    "## Ondeletas"
   ]
  },
  {
   "cell_type": "markdown",
   "metadata": {},
   "source": [
    "Para contornar as limitações de Fourier, foi desenvolvida a transformada em ondeleta. Ela consiste em utilizar uma onda pré-estabelecida, chamada de onda mãe, e variá-la com dois parâmetros, escala e deslocamento em uma determinada função. Nas transformadas de Fourier, são utilizados senos e cossenos, mas na transformada em ondeletas existem vários tipos diferentes de onda."
   ]
  },
  {
   "cell_type": "markdown",
   "metadata": {},
   "source": [
    "Tendo em vista a onda mãe $\\Psi(t)$, para incluir esses parâmetros, transformamos ela em uma função $\\psi(\\frac{t-b}{a})$, na qual $\\Psi_{a,b}(t) = \\frac{1}{\\sqrt{a} } \\Psi(\\frac{t-b}{a})$ ou seja, $a$, chamado de fator de escala (Scale), comprime ou dilata a onda, enquanto $b$, o fator de deslocamento (Shift),  desloca a onda no tempo."
   ]
  },
  {
   "cell_type": "markdown",
   "metadata": {},
   "source": [
    "E isso é utilizado seguindo a ideia de que, para preservar uma precisão alta na frequência, necessária para baixas frequências, quanto menos divisões na função a ser analisada, melhor, e para obter uma precisão temporal alta, necessária para altas frequências, quanto mais divisões na função, melhor. Então a transformada acontece em níveis."
   ]
  },
  {
   "cell_type": "markdown",
   "metadata": {},
   "source": [
    "![esquema](https://imgur.com/SL0TTR8.jpg)"
   ]
  },
  {
   "cell_type": "markdown",
   "metadata": {},
   "source": [
    "Um método utilizado para a decomposição de sinais é o chamado *Multiresolution Analysis (MRA)*, que é usada para a transformada discreta em ondeletas. Ela consiste em separar uma função em duas, gerando dois tipos de coeficiente, sendo a para baixas frequências os coeficientes de aproximação e a para altas frequências os coeficientes de detalhes."
   ]
  },
  {
   "cell_type": "markdown",
   "metadata": {},
   "source": [
    "![mra](https://www.researchgate.net/profile/Krishna-B/publication/263929587/figure/fig7/AS:668298098274309@1536346091279/Diagram-of-multiresolution-analysis-of-signal.png)"
   ]
  },
  {
   "cell_type": "markdown",
   "metadata": {},
   "source": [
    "Para separar a função, são utilizadas duas funções, a função de escala $\\phi (t)$, função de cima, para os coeficientes de aproximação (baixas frequências) e a ondeleta $\\psi(t)$, função de baixo, para os coeficientes de detalhes (alta frequência)."
   ]
  },
  {
   "cell_type": "markdown",
   "metadata": {},
   "source": [
    "![sca](https://chart.googleapis.com/chart?cht=lc&chs=280x200&chd=e:IZIZIZIZIZIZIZIZIZIZIZIZIZIZIZIZIZIZIZIZIZIZIZIZIZIZIZIZIZIZIZIZIZIZIZIZIZIZIZIZIZIZIZIZIZIZIZIZIZIZIZIZIZIZIZIZIZIZIaIaIaIaIaIaIaIaIaIZIZIZIZIZIZIZIZIZIZIZIZIZIZIZIZIZIZIZIZIZIZIYIYIYIYIYIYIYIYIZIZIZIZIaIaIaIaIaIbIbIbIcIcIcIcIdIdIdIdIeIeIeIfIfIfIfIgIgIgIgIgIgIgIgIfIfIfIfIeIeIdIdIcIcIcIcIcIcIcIcIcIcIcIcIcIdIdIdIdIdIdIcIbIaIZIYIXIWIVIUITITISIRIQIQIOINIMILIJIIIHIHIFIEIDICIAH.H-H9H-H.IAICIEIFIIIKIMIPIRIUIXIaIdIgIiIlInIqIsIvIxI0I3I5I8I.JCJEJHJKJNJQJTJWJZJdJgJjJmJpJsJvJxJ0J3J5J9KAKEKIKLKPKSKVKZKdKgKjKnKqKuKwKyKyKxKxKwKuKtKrKpKoKmKlKjKhKfKcKZKWKSKOKKKGKDJ.J6J1JwJsJnJiJcJYJVJUJTJTJTJUJVJWJWJVJVJVJVJVJUJUJVJWJXJZJZJaJaJaJbJdJeJfJhJiJjJjJgJaJTJLJEI8IzIpIgIVILIBH2HqHeHTHJHBG5GxGpGhGZGRGJGCF6FyFqFjFbFUFKE.EzEoEbEPECD1DqDhDXDNDEC8CzCrCfCTCGB5BuBjBZBQBEA4AuAkAaAQAHAAACAKAUAgAuA9BOBgByCECXCrDADWDtEFEdE2FPFqGDGeG4HUHxIQIuJNJsKMKtLNLpMCMbMzNLNjN7OSOqPEPdP2QPQoRCRbR1SOSoTCTdT4UTUvVJVjV-WZW0XPXqYGYmZJZsaRa2bacAcmdOd2edfGfvgYhChsiSi3jbj-kilGlqmOmxnUn4oco-pgqDqmrNr3sitNt5umvTwBwqxTx7yjzKzx0Y0-1p2V3C3v4Z5C5p6R677n8P829f-G-t.Q.k.v.3.6.8.8.3.x.r.l.d.U.I-6-r-a-L979q9Y9G8z8g8M717c7D6q6O5z5W464i4L303e3I2x2b2E1s1V080j0LzyzZzAykyIxsxPwxwTv0vWu3uYt5tas6sar6rZq4qWp0pSowoOnrnJmlmBlck4kTjtjIiih.hdg7gZf2fUexeOdsdLcocGbkbDahZ.ZYYvYGXcWxWGVaUuUETcSzSKRhQ5QRPoO-OSNlM4MNLjK6KRJlI5IPHlG6GRFnFAEkEND5DnDXDIC8CwClCaCQCHCAB6B1BxBsBmBhBdBYBVBRBOBNBNBNBOBPBRBTBWBWBWBWBWBWBWBXBXBYBYBZBbBcBdBfBgBkBoBsBxB2B7CBCGCMCSCZCfClCsCzC6C.DDDIDLDPDTDWDaDeDiDmDqDuDyD2D6D-ECEFEJENEREVEZEcEgEkEnErEvEyE2E8FDFJFQFYFfFnFvF3F-GFGNGUGbGjGqGzG7HEHMHUHcHkHsH1H-IGIOIXIfIoIwI1I5I8I-JAJCJEJFJGJHJIJIJJJJJIJIJIJIJIJIJIJIJIJHJHJGJFJEJDJCJAI.I-I9I8I8I7I6I5I4I3I3I2I1I0IzIyIyIwIvItIrIqIoInIlIjIiIgIeIcIaIZIXIWIVIVIVIUIUIUIUIUIUIUIUIUIVIVIVIVIWIWIWIWIWIWIXIXIXIYIYIYIZIZIaIaIaIaIaIaIaIaIaIaIaIaIaIZIZIZIZIZIZIZIZIZIZIZIZIZIZIZIZIZIZIZIZIZIZIZ&chco=444444&chxt=y,x&chxr=0,-0.182942009625,1.21040865856%7c1,0.0,7.0.png \"Função de escala\") \n",
    "![wav](https://chart.googleapis.com/chart?cht=lc&chs=280x200&chd=e:lglglglglglglglglglglglglglglglglglglglglglglglglglglglglglglglglglglglglglglglglglglglglglglglglglglglglglglglglglglglglglglglglglglglglglglglglglglglglglglglglglhlhlhlhlhlhlhlhlhlililililililhlhlhlhlglglglflflfleleleleldldlclclclblblblalalalZlZlYlYlYlYlYlYlYlYlYlZlZlZlalalblblclcldldldldldldldldldldlclclclclclclclcldlelflgliljlllmlnlolplqlrlrlslulvlxlzl0l2l3l5l6l8l-l.mBmDmEmFmFmDmCl.l9l6l3l0lxlulrlolklgldlZlVlSlOlLlHlElAk9k5k1kxktkpklkhkdkakWkTkQkNkKkHkEkBj-j8j5j3j1jzjxjujqjnjjjgjdjajWjTjQjNjKjHjEjBi.i-i9i9i9i-i.jBjDjDjDjEjEjEjFjGjHjKjOjTjZjejjjnjsjzj6kAkGkOkVkdkjkkkikfkbkXkSkMkGkBj-j6j3jzjvjsjojjjdjWjQjLjHjEjBi7iziuipijieiZiWicioi2jGjXjoj6kPklk9lVlumKmlnDnfn0oGoWomo3pJpbpsp8qMqdqvq.rPrfrxsOsxtWt9umvQv8wpxQx0yYy8zg0D0m1J102h3R4B4s5U576i7Q8A8s9V-C-s.W.5.9.z.g.F-p-J9k868O7f6w5-5F4K3M2O1a0rz9zPyfxtw7wJvVuhtpsxr6rDqLpRoNnEl6ktjeiNg5fleadRcHa-Z2YuXnWgVMTzSXQ6PkOQM.LtKTI1HfGKExDcCGA6AWAGAAAFAMAYAtBGBgB9CcC9DnEUFEF2GfHFHsITI7JmKQK8LsMfNUOKPAP4QwRqSlThUdVZWZXZYbZdaabVcSdPeKfFf.g7iBjLkYlmmvn3o.qGrUsjtuu4wFxQybzg0L0o0.1P1e1p1u1w101212111v1n1c1R1J1D070z0r0h0Y0Oz.zvzezNy6ynyTx.xuxfxRxDwzwkwVwFv3vovZvKu8uuuguRt-tptTs8snsRr8rmrPq3qgqJpxpapCosodoSoIoAn5nyntnonjnenZnVnRnPnMnKnHnEnCm.m8m6m3m1mzmymymxmxmwmwmwmumqmnmjmfmbmXmSmOmKmGmCl-l6l2lylulqlnlklhlelblYlVlSlPlMlJlGlDlAk-k8k6k4k2k0kykwkvktkskqkpknkmklkjkikhkgkfkekdkckbkbkakZkZkYkYkXkWkWkVkUkUkTkSkSkRkRkQkQkQkPkPkPkOkOkOkOkOkOkNkNkNkNkNkNkNkOkOkOkOkPkPkQkRkRkSkTkUkVkWkXkYkZkakbkckdkekfkgkhkikjklkmknkokpkqkrktkukwkxkzk0k2k4k6k7k9k.lAlClElFlHlJlLlNlPlRlSlUlWlYlalclelglilklllnlololplplqlqlqlrlrlrlrlrlrlrlrlrlrlrlrlrlrlrlrlrlrlqlqlqlqlplplplplolololololnlnlnlnlnlmlmlmlmlmlllllllklkljljljlililhlhlhlglglglflflflflflflflflflflflflflflflflflglglglglglglglglglglglglglglglglglglglglglglglglglglglglglglglglglglglglglglglglglglglglglglglglg&chco=444444&chxt=y,x&chxr=0,-1.51685990071,1.0699129607%7c1,0.0,7.0.png \"Ondeleta\")"
   ]
  },
  {
   "cell_type": "markdown",
   "metadata": {},
   "source": [
    "Um exemplo dessas funções é essa, a Symlet de ordem 4."
   ]
  },
  {
   "cell_type": "markdown",
   "metadata": {},
   "source": [
    "## Tipos de ondeletas"
   ]
  },
  {
   "cell_type": "markdown",
   "metadata": {},
   "source": [
    "Existem vários tipos de ondeletas utilizadas para esse método, com várias propriedades diferentes, como ortogonais, por exemplo a ondeletas Haar (a) e as de Daubechies (c), simétricas, como a gaussiana (b) e a de Morlet (d), utilização de forma discreta ou contínua, além da separação por ordem, que é referente a taxa de decaimento da função, como a gaussiana de primeira ordem e a de Daubechies de quarta ordem, demostradas a seguir.\n",
    "\n",
    "A utilização de cada uma depende da necessidade de cada aplicação, assim como a proximidade da onda mãe com a função a ser estudada."
   ]
  },
  {
   "cell_type": "markdown",
   "metadata": {},
   "source": [
    "![ondeletas](https://www.researchgate.net/profile/Jack-Baker-4/publication/241344645/figure/fig1/AS:393262637568009@1470772527480/Common-mother-wavelets-used-for-wavelet-analysis-a-Haar-wavelet-b-Gaussian-wavelet.png)"
   ]
  },
  {
   "cell_type": "markdown",
   "metadata": {},
   "source": [
    "Um exemplo de seleção de ondeleta é a utilização da Symlet de ordem 4, para análise de eletrocardiogramas (ECG), a função $\\phi (t)$ se parece com um cíclo da ECG."
   ]
  },
  {
   "cell_type": "markdown",
   "metadata": {},
   "source": [
    "![symlet](https://www.researchgate.net/profile/Farid_Nait-Abdesselam/publication/305875074/figure/fig1/AS:669076170997773@1536531598766/An-ECG-heart-beat-with-waves-and-segments.png)"
   ]
  },
  {
   "cell_type": "markdown",
   "metadata": {},
   "source": [
    "## Utilização"
   ]
  },
  {
   "cell_type": "markdown",
   "metadata": {},
   "source": [
    "A transformada em ondeletas é bastante útil para aplicações como compressão, remoção de ruído, detecção de descontinuidades, entre outras aplicações. \n",
    "Uma das aplicações que veremos nesse notebook é a remoção de ruído, que foi vista no notebook anterior sobre Fourier."
   ]
  },
  {
   "cell_type": "markdown",
   "metadata": {},
   "source": []
  },
  {
   "cell_type": "code",
   "execution_count": null,
   "metadata": {},
   "outputs": [],
   "source": []
  }
 ],
 "metadata": {
  "kernelspec": {
   "display_name": "Python 3",
   "language": "python",
   "name": "python3"
  },
  "language_info": {
   "codemirror_mode": {
    "name": "ipython",
    "version": 3
   },
   "file_extension": ".py",
   "mimetype": "text/x-python",
   "name": "python",
   "nbconvert_exporter": "python",
   "pygments_lexer": "ipython3",
   "version": "3.7.6"
  }
 },
 "nbformat": 4,
 "nbformat_minor": 4
}
